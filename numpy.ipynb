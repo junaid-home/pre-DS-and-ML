{
 "cells": [
  {
   "cell_type": "markdown",
   "id": "7f4db395",
   "metadata": {},
   "source": [
    "# Numpy basics"
   ]
  },
  {
   "cell_type": "markdown",
   "id": "3e5bacf7",
   "metadata": {},
   "source": [
    "Importing library and set an alias **np** for it."
   ]
  },
  {
   "cell_type": "code",
   "execution_count": 1,
   "id": "bc019f9d",
   "metadata": {},
   "outputs": [],
   "source": [
    "import numpy as np"
   ]
  },
  {
   "cell_type": "code",
   "execution_count": 2,
   "id": "46a60b68",
   "metadata": {},
   "outputs": [
    {
     "data": {
      "text/plain": [
       "array([1, 2, 3, 4, 5])"
      ]
     },
     "execution_count": 2,
     "metadata": {},
     "output_type": "execute_result"
    }
   ],
   "source": [
    "a1 = [1, 2, 3, 4, 5]\n",
    "\n",
    "np_a1 = np.array(a1)\n",
    "np_a1"
   ]
  },
  {
   "cell_type": "markdown",
   "id": "aca81be4",
   "metadata": {},
   "source": [
    "#### Get Type and Data Dimentions"
   ]
  },
  {
   "cell_type": "code",
   "execution_count": 3,
   "id": "455da098",
   "metadata": {},
   "outputs": [
    {
     "name": "stdout",
     "output_type": "stream",
     "text": [
      "(5,)\n",
      "<class 'numpy.ndarray'>\n"
     ]
    }
   ],
   "source": [
    "print(np_a1.shape)\n",
    "print(type(np_a1))"
   ]
  },
  {
   "cell_type": "markdown",
   "id": "550e6ba9",
   "metadata": {},
   "source": [
    "#### Appending ELement"
   ]
  },
  {
   "cell_type": "code",
   "execution_count": 4,
   "id": "1c019c20",
   "metadata": {},
   "outputs": [
    {
     "data": {
      "text/plain": [
       "array([ 1,  2,  3,  4,  5,  6,  7,  8,  9, 10])"
      ]
     },
     "execution_count": 4,
     "metadata": {},
     "output_type": "execute_result"
    }
   ],
   "source": [
    "a1.append(6)\n",
    "\n",
    "a2 = [7, 8, 9, 10]\n",
    "\n",
    "np_a2 = np.array(a1 + a2)\n",
    "np_a2"
   ]
  },
  {
   "cell_type": "markdown",
   "id": "9389275a",
   "metadata": {},
   "source": [
    "#### Two Dimentional Array"
   ]
  },
  {
   "cell_type": "code",
   "execution_count": 5,
   "id": "81f5b62b",
   "metadata": {},
   "outputs": [
    {
     "data": {
      "text/plain": [
       "(2, 2)"
      ]
     },
     "execution_count": 5,
     "metadata": {},
     "output_type": "execute_result"
    }
   ],
   "source": [
    "a3 = [[1, 2], [3, 4]]\n",
    "\n",
    "np_a3 = np.array(a3)\n",
    "np_a3.shape # returns a list in which first value represents no of rows and second value represents no of columns"
   ]
  },
  {
   "cell_type": "markdown",
   "id": "087045d5",
   "metadata": {},
   "source": [
    "#### Specify Datatype at the time of array creation and change it afterwords"
   ]
  },
  {
   "cell_type": "code",
   "execution_count": 6,
   "id": "ec027bb0",
   "metadata": {},
   "outputs": [
    {
     "name": "stdout",
     "output_type": "stream",
     "text": [
      "Float: 1.0\n",
      "Integer: 1\n",
      "String: 1\n"
     ]
    }
   ],
   "source": [
    "a4 = [[1, 2], [3, 4]]\n",
    "\n",
    "np_a4 = np.array(a4, dtype=\"float\")\n",
    "\n",
    "print(f'Float: {np_a4[0][0]}')\n",
    "\n",
    "integer_type = np_a4.astype('int')\n",
    "string_type = integer_type.astype('str')\n",
    "\n",
    "print(f'Integer: {integer_type[0][0]}')\n",
    "print(f'String: {string_type[0][0]}')"
   ]
  },
  {
   "cell_type": "markdown",
   "id": "325c81e0",
   "metadata": {},
   "source": [
    "## nan(Not a Number) & inf (Infinity)"
   ]
  },
  {
   "cell_type": "code",
   "execution_count": 7,
   "id": "3ba66627",
   "metadata": {},
   "outputs": [
    {
     "name": "stdout",
     "output_type": "stream",
     "text": [
      "[[False  True]\n",
      " [False  True]]\n"
     ]
    },
    {
     "data": {
      "text/plain": [
       "array([[1., 0.],\n",
       "       [2., 0.]])"
      ]
     },
     "execution_count": 7,
     "metadata": {},
     "output_type": "execute_result"
    }
   ],
   "source": [
    "a5 = [[1, np.nan], [2, np.inf]]\n",
    "\n",
    "np_a5 = np.array(a5)\n",
    "\n",
    "is_nan_or_inf = np.isnan(np_a5) | np.isinf(np_a5)\n",
    "\n",
    "print(is_nan_or_inf)\n",
    "\n",
    "np_a5[is_nan_or_inf] = 0.0\n",
    "\n",
    "np_a5"
   ]
  },
  {
   "cell_type": "markdown",
   "id": "6acb7c7a",
   "metadata": {},
   "source": [
    "### Basic Statistic Operations"
   ]
  },
  {
   "cell_type": "code",
   "execution_count": 8,
   "id": "0144fe89",
   "metadata": {},
   "outputs": [
    {
     "data": {
      "text/plain": [
       "0.6875"
      ]
     },
     "execution_count": 8,
     "metadata": {},
     "output_type": "execute_result"
    }
   ],
   "source": [
    "# Mean, Median, Standard diviation, varience\n",
    "\n",
    "np_a5.mean()\n",
    "np.median(np_a5)\n",
    "np_a5.std()\n",
    "np_a5.var()"
   ]
  },
  {
   "cell_type": "markdown",
   "id": "5d2a7ee5",
   "metadata": {},
   "source": [
    "## ravel, flatten, reshape"
   ]
  },
  {
   "cell_type": "code",
   "execution_count": 9,
   "id": "9344edbc",
   "metadata": {},
   "outputs": [
    {
     "data": {
      "text/plain": [
       "array([1., 0., 2., 0.])"
      ]
     },
     "execution_count": 9,
     "metadata": {},
     "output_type": "execute_result"
    }
   ],
   "source": [
    "np_a5.reshape(1, np_a5.shape[0] * np_a5.shape[1])\n",
    "\n",
    "# both tries to convert multi-dimentional array to one dimentional array\n",
    "np_a5.flatten()\n",
    "np_a5.ravel()"
   ]
  },
  {
   "cell_type": "markdown",
   "id": "962d7767",
   "metadata": {},
   "source": [
    "## Baisc array methods"
   ]
  },
  {
   "cell_type": "code",
   "execution_count": 10,
   "id": "0682642c",
   "metadata": {},
   "outputs": [
    {
     "data": {
      "text/plain": [
       "array([1, 3, 5])"
      ]
     },
     "execution_count": 10,
     "metadata": {},
     "output_type": "execute_result"
    }
   ],
   "source": [
    "np.arange(1, 6, 2) # (from, to, skip?=1)"
   ]
  },
  {
   "cell_type": "code",
   "execution_count": 11,
   "id": "24356b7b",
   "metadata": {},
   "outputs": [
    {
     "data": {
      "text/plain": [
       "array([ 1.  ,  3.25,  5.5 ,  7.75, 10.  ])"
      ]
     },
     "execution_count": 11,
     "metadata": {},
     "output_type": "execute_result"
    }
   ],
   "source": [
    "np.linspace(1, 10, 5) # even difference between no's (from, to, generate_count)"
   ]
  },
  {
   "cell_type": "code",
   "execution_count": 12,
   "id": "d2335aff",
   "metadata": {},
   "outputs": [
    {
     "data": {
      "text/plain": [
       "array([1.00000000e+01, 3.16227766e+05, 1.00000000e+10])"
      ]
     },
     "execution_count": 12,
     "metadata": {},
     "output_type": "execute_result"
    }
   ],
   "source": [
    "np.logspace(1, 10, 3) # even logrithmic difference between no's"
   ]
  },
  {
   "cell_type": "code",
   "execution_count": 13,
   "id": "14457be3",
   "metadata": {},
   "outputs": [
    {
     "data": {
      "text/plain": [
       "array([[0., 0., 0.],\n",
       "       [0., 0., 0.]])"
      ]
     },
     "execution_count": 13,
     "metadata": {},
     "output_type": "execute_result"
    }
   ],
   "source": [
    "np.zeros([2, 3])"
   ]
  },
  {
   "cell_type": "code",
   "execution_count": 14,
   "id": "7362df4d",
   "metadata": {},
   "outputs": [
    {
     "data": {
      "text/plain": [
       "array([[[0., 0., 0.],\n",
       "        [0., 0., 0.]],\n",
       "\n",
       "       [[0., 0., 0.],\n",
       "        [0., 0., 0.]]])"
      ]
     },
     "execution_count": 14,
     "metadata": {},
     "output_type": "execute_result"
    }
   ],
   "source": [
    "np.zeros([2, 2, 3]) # (dimentions, rows , columns)"
   ]
  },
  {
   "cell_type": "code",
   "execution_count": 15,
   "id": "7134c72c",
   "metadata": {},
   "outputs": [
    {
     "data": {
      "text/plain": [
       "array([[1., 1., 1.],\n",
       "       [1., 1., 1.]])"
      ]
     },
     "execution_count": 15,
     "metadata": {},
     "output_type": "execute_result"
    }
   ],
   "source": [
    "np.ones([2, 3])"
   ]
  },
  {
   "cell_type": "code",
   "execution_count": 16,
   "id": "612eb30b",
   "metadata": {},
   "outputs": [
    {
     "data": {
      "text/plain": [
       "array([3, 4, 3, 4])"
      ]
     },
     "execution_count": 16,
     "metadata": {},
     "output_type": "execute_result"
    }
   ],
   "source": [
    "np.tile([3, 4], 2)"
   ]
  },
  {
   "cell_type": "code",
   "execution_count": 17,
   "id": "cb1474dc",
   "metadata": {},
   "outputs": [
    {
     "data": {
      "text/plain": [
       "array([3, 3, 4, 4])"
      ]
     },
     "execution_count": 17,
     "metadata": {},
     "output_type": "execute_result"
    }
   ],
   "source": [
    "np.repeat([3, 4], 2)"
   ]
  },
  {
   "cell_type": "code",
   "execution_count": 18,
   "id": "fe906a2e",
   "metadata": {},
   "outputs": [
    {
     "data": {
      "text/plain": [
       "array([[0.16376617, 0.97558264, 0.77688137],\n",
       "       [0.02501447, 0.58228355, 0.52220467]])"
      ]
     },
     "execution_count": 18,
     "metadata": {},
     "output_type": "execute_result"
    }
   ],
   "source": [
    "np.random.rand(2, 3) # (rows, columns)"
   ]
  },
  {
   "cell_type": "code",
   "execution_count": 19,
   "id": "9a08a752",
   "metadata": {},
   "outputs": [
    {
     "data": {
      "text/plain": [
       "array([[96, 88, 83],\n",
       "       [58, 17, 14]])"
      ]
     },
     "execution_count": 19,
     "metadata": {},
     "output_type": "execute_result"
    }
   ],
   "source": [
    "np.random.randint(1, 100, [2, 3]) # (from, to, [rows, columns])"
   ]
  },
  {
   "cell_type": "code",
   "execution_count": 20,
   "id": "4ccf057c",
   "metadata": {},
   "outputs": [
    {
     "data": {
      "text/plain": [
       "array([[38, 13, 73],\n",
       "       [10, 76,  6]])"
      ]
     },
     "execution_count": 20,
     "metadata": {},
     "output_type": "execute_result"
    }
   ],
   "source": [
    "# fix the random results\n",
    "np.random.seed(1)\n",
    "np.random.randint(1, 100, [2, 3])"
   ]
  },
  {
   "cell_type": "code",
   "execution_count": 21,
   "id": "a957f813",
   "metadata": {},
   "outputs": [
    {
     "data": {
      "text/plain": [
       "array([0., 1., 2.])"
      ]
     },
     "execution_count": 21,
     "metadata": {},
     "output_type": "execute_result"
    }
   ],
   "source": [
    "np.unique(np_a5)"
   ]
  },
  {
   "cell_type": "code",
   "execution_count": 22,
   "id": "326e0109",
   "metadata": {},
   "outputs": [
    {
     "data": {
      "text/plain": [
       "(array([0., 1., 2.]), array([2, 1, 1], dtype=int64))"
      ]
     },
     "execution_count": 22,
     "metadata": {},
     "output_type": "execute_result"
    }
   ],
   "source": [
    "np.unique(np_a5, return_counts=True)"
   ]
  },
  {
   "cell_type": "markdown",
   "id": "951b3b73",
   "metadata": {},
   "source": [
    "## Where"
   ]
  },
  {
   "cell_type": "code",
   "execution_count": 23,
   "id": "0facad0a",
   "metadata": {},
   "outputs": [
    {
     "data": {
      "text/plain": [
       "array([11, 12])"
      ]
     },
     "execution_count": 23,
     "metadata": {},
     "output_type": "execute_result"
    }
   ],
   "source": [
    "np_a7 = np.array([1, 2, 10, 11, 12])\n",
    "\n",
    "index = np.where(np_a7>10)\n",
    "np_a7[index]"
   ]
  },
  {
   "cell_type": "code",
   "execution_count": 24,
   "id": "3a0fbbdd",
   "metadata": {},
   "outputs": [
    {
     "data": {
      "text/plain": [
       "array([11, 12])"
      ]
     },
     "execution_count": 24,
     "metadata": {},
     "output_type": "execute_result"
    }
   ],
   "source": [
    "np_a7[np_a7>10]"
   ]
  },
  {
   "cell_type": "code",
   "execution_count": 25,
   "id": "ddea2200",
   "metadata": {},
   "outputs": [
    {
     "data": {
      "text/plain": [
       "4"
      ]
     },
     "execution_count": 25,
     "metadata": {},
     "output_type": "execute_result"
    }
   ],
   "source": [
    "np_a7.argmax() # index of np_a7.max()"
   ]
  },
  {
   "cell_type": "code",
   "execution_count": 26,
   "id": "b91825a4",
   "metadata": {},
   "outputs": [
    {
     "data": {
      "text/plain": [
       "0"
      ]
     },
     "execution_count": 26,
     "metadata": {},
     "output_type": "execute_result"
    }
   ],
   "source": [
    "np_a7.argmin() # index of np_a7.min()"
   ]
  },
  {
   "cell_type": "markdown",
   "id": "89360429",
   "metadata": {},
   "source": [
    "## File Handling"
   ]
  },
  {
   "cell_type": "code",
   "execution_count": 27,
   "id": "a4c45bb0",
   "metadata": {},
   "outputs": [],
   "source": [
    "# np.savetext(file.csv, array, delimiter=',')\n",
    "# np.savetext(file.csv, delimiter=',')\n",
    "\n",
    "# save as bytes \n",
    "# np.save(file.npy, array)\n",
    "# np.load(file.npy)\n",
    "\n",
    "# save multiple arrays\n",
    "# np.savez(file.npy, array1, array2)\n",
    "# np.loadz(file.npy).files"
   ]
  },
  {
   "cell_type": "markdown",
   "id": "94d8d02a",
   "metadata": {},
   "source": [
    "## Concatination and sorting"
   ]
  },
  {
   "cell_type": "code",
   "execution_count": 28,
   "id": "8a171ef3",
   "metadata": {},
   "outputs": [
    {
     "data": {
      "text/plain": [
       "array([1, 2, 3, 4, 5, 6, 7, 8])"
      ]
     },
     "execution_count": 28,
     "metadata": {},
     "output_type": "execute_result"
    }
   ],
   "source": [
    "# for concatination arrays must be of same order\n",
    "arr_1 = np.array([1, 2 , 3, 4])\n",
    "arr_2 = np.array([5, 6, 7, 8])\n",
    "\n",
    "# np.hstack([arr_1, arr_2])\n",
    "np.concatenate([arr_1, arr_2], axis=0)"
   ]
  },
  {
   "cell_type": "code",
   "execution_count": 29,
   "id": "41c57bec",
   "metadata": {},
   "outputs": [
    {
     "data": {
      "text/plain": [
       "array([[80, 65, 77, 72],\n",
       "       [17,  2,  7, 26]])"
      ]
     },
     "execution_count": 29,
     "metadata": {},
     "output_type": "execute_result"
    }
   ],
   "source": [
    "arr_1 = np.random.randint(1, 100, [2, 2])\n",
    "arr_2 = np.random.randint(1, 100, [2, 2])\n",
    "\n",
    "# np.vstack([arr_1, arr_2])\n",
    "np.concatenate([arr_1, arr_2], axis=1)"
   ]
  },
  {
   "cell_type": "markdown",
   "id": "31d69b05",
   "metadata": {},
   "source": [
    "## working with dates"
   ]
  },
  {
   "cell_type": "code",
   "execution_count": 30,
   "id": "828f6496",
   "metadata": {},
   "outputs": [
    {
     "data": {
      "text/plain": [
       "numpy.datetime64('2021-10-23T23:40:30')"
      ]
     },
     "execution_count": 30,
     "metadata": {},
     "output_type": "execute_result"
    }
   ],
   "source": [
    "date = np.datetime64('2021-10-23 23:40:30')\n",
    "\n",
    "date"
   ]
  },
  {
   "cell_type": "code",
   "execution_count": 31,
   "id": "ab0677b5",
   "metadata": {},
   "outputs": [
    {
     "data": {
      "text/plain": [
       "numpy.datetime64('2021-10-23T23:40:40')"
      ]
     },
     "execution_count": 31,
     "metadata": {},
     "output_type": "execute_result"
    }
   ],
   "source": [
    "date + 10"
   ]
  },
  {
   "cell_type": "code",
   "execution_count": 32,
   "id": "ce883452",
   "metadata": {},
   "outputs": [
    {
     "data": {
      "text/plain": [
       "numpy.datetime64('2021-10-24T23:40:30')"
      ]
     },
     "execution_count": 32,
     "metadata": {},
     "output_type": "execute_result"
    }
   ],
   "source": [
    "one_day = np.timedelta64(1, 'D')\n",
    "\n",
    "date + one_day"
   ]
  },
  {
   "cell_type": "code",
   "execution_count": 33,
   "id": "2fb55ddd",
   "metadata": {},
   "outputs": [
    {
     "data": {
      "text/plain": [
       "numpy.datetime64('2021-10-23T23:41:30')"
      ]
     },
     "execution_count": 33,
     "metadata": {},
     "output_type": "execute_result"
    }
   ],
   "source": [
    "one_min = np.timedelta64(1, 'm')\n",
    "\n",
    "date + one_min"
   ]
  }
 ],
 "metadata": {
  "kernelspec": {
   "display_name": "Python 3",
   "language": "python",
   "name": "python3"
  },
  "language_info": {
   "codemirror_mode": {
    "name": "ipython",
    "version": 3
   },
   "file_extension": ".py",
   "mimetype": "text/x-python",
   "name": "python",
   "nbconvert_exporter": "python",
   "pygments_lexer": "ipython3",
   "version": "3.8.8"
  }
 },
 "nbformat": 4,
 "nbformat_minor": 5
}
