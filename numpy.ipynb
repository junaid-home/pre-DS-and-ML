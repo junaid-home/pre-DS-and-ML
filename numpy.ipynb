{
 "cells": [
  {
   "cell_type": "markdown",
   "id": "7f4db395",
   "metadata": {},
   "source": [
    "# Numpy basics"
   ]
  },
  {
   "cell_type": "markdown",
   "id": "3e5bacf7",
   "metadata": {},
   "source": [
    "Importing library and set an alias **np** for it."
   ]
  },
  {
   "cell_type": "code",
   "execution_count": 1,
   "id": "bc019f9d",
   "metadata": {},
   "outputs": [],
   "source": [
    "import numpy as np"
   ]
  },
  {
   "cell_type": "code",
   "execution_count": 47,
   "id": "46a60b68",
   "metadata": {},
   "outputs": [
    {
     "data": {
      "text/plain": [
       "array([1, 2, 3, 4, 5])"
      ]
     },
     "execution_count": 47,
     "metadata": {},
     "output_type": "execute_result"
    }
   ],
   "source": [
    "a1 = [1, 2, 3, 4, 5]\n",
    "\n",
    "np_a1 = np.array(a1)\n",
    "np_a1b"
   ]
  },
  {
   "cell_type": "markdown",
   "id": "aca81be4",
   "metadata": {},
   "source": [
    "#### Get Type and Data Dimentions"
   ]
  },
  {
   "cell_type": "code",
   "execution_count": 44,
   "id": "455da098",
   "metadata": {},
   "outputs": [
    {
     "name": "stdout",
     "output_type": "stream",
     "text": [
      "(5,)\n",
      "<class 'numpy.ndarray'>\n"
     ]
    }
   ],
   "source": [
    "print(np_a1.shape)\n",
    "print(type(np_a1))"
   ]
  },
  {
   "cell_type": "markdown",
   "id": "550e6ba9",
   "metadata": {},
   "source": [
    "#### Appending ELement"
   ]
  },
  {
   "cell_type": "code",
   "execution_count": 48,
   "id": "1c019c20",
   "metadata": {},
   "outputs": [
    {
     "data": {
      "text/plain": [
       "array([ 1,  2,  3,  4,  5,  6,  7,  8,  9, 10])"
      ]
     },
     "execution_count": 48,
     "metadata": {},
     "output_type": "execute_result"
    }
   ],
   "source": [
    "a1.append(6)\n",
    "\n",
    "a2 = [7, 8, 9, 10]\n",
    "\n",
    "np_a2 = np.array(a1 + a2)\n",
    "np_a2"
   ]
  },
  {
   "cell_type": "markdown",
   "id": "9389275a",
   "metadata": {},
   "source": [
    "#### Two Dimentional Array"
   ]
  },
  {
   "cell_type": "code",
   "execution_count": 53,
   "id": "81f5b62b",
   "metadata": {},
   "outputs": [
    {
     "data": {
      "text/plain": [
       "(2, 2)"
      ]
     },
     "execution_count": 53,
     "metadata": {},
     "output_type": "execute_result"
    }
   ],
   "source": [
    "a3 = [[1, 2], [3, 4]]\n",
    "\n",
    "np_a3 = np.array(a3)\n",
    "np_a3.shape # returns a list in which first value represents no of rows and second value represents no of columns"
   ]
  },
  {
   "cell_type": "markdown",
   "id": "087045d5",
   "metadata": {},
   "source": [
    "#### Specify Datatype at the time of array creation and change it afterwords"
   ]
  },
  {
   "cell_type": "code",
   "execution_count": 63,
   "id": "ec027bb0",
   "metadata": {},
   "outputs": [
    {
     "name": "stdout",
     "output_type": "stream",
     "text": [
      "Float: 1.0\n",
      "Integer: 1\n",
      "String: 1\n"
     ]
    }
   ],
   "source": [
    "a4 = [[1, 2], [3, 4]]\n",
    "\n",
    "np_a4 = np.array(a4, dtype=\"float\")\n",
    "\n",
    "print(f'Float: {np_a4[0][0]}')\n",
    "\n",
    "integer_type = np_a4.astype('int')\n",
    "string_type = integer_type.astype('str')\n",
    "\n",
    "print(f'Integer: {integer_type[0][0]}')\n",
    "print(f'String: {string_type[0][0]}')"
   ]
  },
  {
   "cell_type": "markdown",
   "id": "325c81e0",
   "metadata": {},
   "source": [
    "## nan(Not a Number) & inf (Infinity)"
   ]
  },
  {
   "cell_type": "code",
   "execution_count": 75,
   "id": "3ba66627",
   "metadata": {},
   "outputs": [
    {
     "name": "stdout",
     "output_type": "stream",
     "text": [
      "[[False  True]\n",
      " [False  True]]\n"
     ]
    },
    {
     "data": {
      "text/plain": [
       "array([[1., 0.],\n",
       "       [2., 0.]])"
      ]
     },
     "execution_count": 75,
     "metadata": {},
     "output_type": "execute_result"
    }
   ],
   "source": [
    "a5 = [[1, np.nan], [2, np.inf]]\n",
    "\n",
    "np_a5 = np.array(a5)\n",
    "\n",
    "is_nan_or_inf = np.isnan(np_a5) | np.isinf(np_a5)\n",
    "\n",
    "print(is_nan_or_inf)\n",
    "\n",
    "np_a5[is_nan_or_inf] = 0.0\n",
    "\n",
    "np_a5"
   ]
  }
 ],
 "metadata": {
  "kernelspec": {
   "display_name": "Python 3",
   "language": "python",
   "name": "python3"
  },
  "language_info": {
   "codemirror_mode": {
    "name": "ipython",
    "version": 3
   },
   "file_extension": ".py",
   "mimetype": "text/x-python",
   "name": "python",
   "nbconvert_exporter": "python",
   "pygments_lexer": "ipython3",
   "version": "3.8.8"
  }
 },
 "nbformat": 4,
 "nbformat_minor": 5
}
